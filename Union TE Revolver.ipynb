{
 "cells": [
  {
   "cell_type": "code",
   "execution_count": 1,
   "id": "ca0c80cb",
   "metadata": {},
   "outputs": [],
   "source": [
    "import pandas as pd\n",
    "import numpy as np"
   ]
  },
  {
   "cell_type": "code",
   "execution_count": 7,
   "id": "c93b64dd",
   "metadata": {},
   "outputs": [
    {
     "name": "stdout",
     "output_type": "stream",
     "text": [
      "Excepcion\n",
      "Excepcion\n",
      "Excepcion\n",
      "Excepcion\n",
      "Excepcion\n",
      "Excepcion\n",
      "Excepcion\n",
      "Excepcion\n"
     ]
    },
    {
     "data": {
      "text/plain": [
       "['TE_REVOLVER_202201_Bis.csv',\n",
       " 'TE_REVOLVER_202202_Bis.csv',\n",
       " 'TE_REVOLVER_202203_Bis.csv',\n",
       " 'TE_REVOLVER_202204_Bis.csv',\n",
       " 'TE_REVOLVER_202205_Bis.csv',\n",
       " 'TE_REVOLVER_202206_Bis.csv',\n",
       " 'TE_REVOLVER_202207_Bis.csv',\n",
       " 'TE_REVOLVER_202208_Bis.csv',\n",
       " 'TE_REVOLVER_202209_Bis.csv',\n",
       " 'TE_REVOLVER_202210_Bis.csv',\n",
       " 'TE_REVOLVER_202211_Bis.csv',\n",
       " 'TE_REVOLVER_202212_Bis.csv',\n",
       " 'TE_REVOLVER_202301_Bis.csv',\n",
       " 'TE_REVOLVER_202302_Bis.csv',\n",
       " 'TE_REVOLVER_202303_Bis.csv',\n",
       " 'TE_REVOLVER_202304_Bis.csv',\n",
       " 'TE_REVOLVER_202305_Bis.csv',\n",
       " 'TE_REVOLVER_202306_Bis.csv',\n",
       " 'TE_REVOLVER_202307_Bis.csv',\n",
       " 'TE_REVOLVER_202308_Bis.csv',\n",
       " 'TE_REVOLVER_202309_Bis.csv',\n",
       " 'TE_REVOLVER_202310_Bis.csv',\n",
       " 'TE_REVOLVER_202311_Bis.csv',\n",
       " 'TE_REVOLVER_202312_Bis.csv',\n",
       " 'TE_REVOLVER_202401_Bis.csv',\n",
       " 'TE_REVOLVER_202402_Bis.csv',\n",
       " 'TE_REVOLVER_202403_Bis.csv',\n",
       " 'TE_REVOLVER_202404_Bis.csv']"
      ]
     },
     "execution_count": 7,
     "metadata": {},
     "output_type": "execute_result"
    }
   ],
   "source": [
    "list_meses = []\n",
    "\n",
    "# list_anios = ['2022', '2023', '2024']\n",
    "\n",
    "for anio_i in range(2022,2025):\n",
    "    for mes_i in range(1,13):\n",
    "        \n",
    "        mes_i_txt = str(mes_i)\n",
    "        anio_i_txt = str(anio_i)\n",
    "        \n",
    "        if mes_i <= 9:\n",
    "            mes_i_txt = '0' + mes_i_txt\n",
    "            \n",
    "            \n",
    "        if anio_i == 2024 and mes_i >= 5:\n",
    "            print('Excepcion')\n",
    "        else:\n",
    "            list_meses.append('TE_REVOLVER_'+ anio_i_txt + mes_i_txt + '_Bis.csv')\n",
    "        \n",
    "            \n",
    "list_meses"
   ]
  },
  {
   "cell_type": "code",
   "execution_count": null,
   "id": "14a4dac0",
   "metadata": {},
   "outputs": [],
   "source": [
    "df_acumulada = pd.read_csv(list_meses[0])"
   ]
  },
  {
   "cell_type": "code",
   "execution_count": 10,
   "id": "999b2ecc",
   "metadata": {},
   "outputs": [
    {
     "data": {
      "text/plain": [
       "'TE_REVOLVER_202201_Bis.csv'"
      ]
     },
     "execution_count": 10,
     "metadata": {},
     "output_type": "execute_result"
    }
   ],
   "source": [
    "list_meses.pop(0)"
   ]
  },
  {
   "cell_type": "code",
   "execution_count": 11,
   "id": "39753faa",
   "metadata": {
    "scrolled": true
   },
   "outputs": [
    {
     "data": {
      "text/plain": [
       "['TE_REVOLVER_202202_Bis.csv',\n",
       " 'TE_REVOLVER_202203_Bis.csv',\n",
       " 'TE_REVOLVER_202204_Bis.csv',\n",
       " 'TE_REVOLVER_202205_Bis.csv',\n",
       " 'TE_REVOLVER_202206_Bis.csv',\n",
       " 'TE_REVOLVER_202207_Bis.csv',\n",
       " 'TE_REVOLVER_202208_Bis.csv',\n",
       " 'TE_REVOLVER_202209_Bis.csv',\n",
       " 'TE_REVOLVER_202210_Bis.csv',\n",
       " 'TE_REVOLVER_202211_Bis.csv',\n",
       " 'TE_REVOLVER_202212_Bis.csv',\n",
       " 'TE_REVOLVER_202301_Bis.csv',\n",
       " 'TE_REVOLVER_202302_Bis.csv',\n",
       " 'TE_REVOLVER_202303_Bis.csv',\n",
       " 'TE_REVOLVER_202304_Bis.csv',\n",
       " 'TE_REVOLVER_202305_Bis.csv',\n",
       " 'TE_REVOLVER_202306_Bis.csv',\n",
       " 'TE_REVOLVER_202307_Bis.csv',\n",
       " 'TE_REVOLVER_202308_Bis.csv',\n",
       " 'TE_REVOLVER_202309_Bis.csv',\n",
       " 'TE_REVOLVER_202310_Bis.csv',\n",
       " 'TE_REVOLVER_202311_Bis.csv',\n",
       " 'TE_REVOLVER_202312_Bis.csv',\n",
       " 'TE_REVOLVER_202401_Bis.csv',\n",
       " 'TE_REVOLVER_202402_Bis.csv',\n",
       " 'TE_REVOLVER_202403_Bis.csv',\n",
       " 'TE_REVOLVER_202404_Bis.csv']"
      ]
     },
     "execution_count": 11,
     "metadata": {},
     "output_type": "execute_result"
    }
   ],
   "source": [
    "list_meses"
   ]
  },
  {
   "cell_type": "code",
   "execution_count": null,
   "id": "fcc86587",
   "metadata": {},
   "outputs": [],
   "source": [
    "for file_i in list_meses:\n",
    "    df_aux = pd.read_csv(file_i)\n",
    "    \n",
    "    df_acumulada = pd.concat([df_acumulada, df_aux],axis = 0)\n",
    "    \n",
    "print(df_acumulada.shape)  \n",
    "df_acumulada.head(3)"
   ]
  },
  {
   "cell_type": "code",
   "execution_count": null,
   "id": "8b8df0d1",
   "metadata": {},
   "outputs": [],
   "source": []
  },
  {
   "cell_type": "code",
   "execution_count": null,
   "id": "0f327c8e",
   "metadata": {},
   "outputs": [],
   "source": [
    "df_acumulada.to_csv('TE_REVOLVER_2201_a_2404.csv')"
   ]
  },
  {
   "cell_type": "code",
   "execution_count": null,
   "id": "4043aba2",
   "metadata": {},
   "outputs": [],
   "source": []
  }
 ],
 "metadata": {
  "kernelspec": {
   "display_name": "Python 3",
   "language": "python",
   "name": "python3"
  },
  "language_info": {
   "codemirror_mode": {
    "name": "ipython",
    "version": 3
   },
   "file_extension": ".py",
   "mimetype": "text/x-python",
   "name": "python",
   "nbconvert_exporter": "python",
   "pygments_lexer": "ipython3",
   "version": "3.11.5"
  }
 },
 "nbformat": 4,
 "nbformat_minor": 5
}
