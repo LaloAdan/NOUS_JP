{
 "cells": [
  {
   "cell_type": "code",
   "execution_count": null,
   "id": "23a6314f",
   "metadata": {},
   "outputs": [],
   "source": [
    "import pandas as pd\n",
    "import numpy as np"
   ]
  },
  {
   "cell_type": "code",
   "execution_count": null,
   "id": "14a621bf",
   "metadata": {},
   "outputs": [],
   "source": [
    "path_tarjetas = 'C/Users/E133166/OneDrive - Mastecard/Documents/HSBC2/pivot/universe/'"
   ]
  },
  {
   "cell_type": "code",
   "execution_count": null,
   "id": "f3c5b162",
   "metadata": {},
   "outputs": [],
   "source": [
    "df_tarjetas = pd.read_csv(path_tarjetas + 'tarjetas.csv')\n",
    "df_tarjetas[['NUM_CIS','NUM_TCD']] = df_tarjetas[['NUM_CIS','NUM_TCD']].astype(str)\n",
    "\n",
    "df_tarjetas.head(3)"
   ]
  },
  {
   "cell_type": "markdown",
   "id": "1d3e13af",
   "metadata": {},
   "source": [
    "# Nivel cliente\n"
   ]
  },
  {
   "cell_type": "code",
   "execution_count": null,
   "id": "f9a26027",
   "metadata": {},
   "outputs": [],
   "source": [
    "list_group1 = [\"NUM_CIS\"]\n",
    "dict_estadisticas1 = {'NUM_TCD':['count']}\n",
    "\n",
    "x1 = df_tarjetas.groupby(list_group1).agg(dict_estadisticas1).reset_index(drop = False)\n",
    "x1.columns = list_group1 + ['Numero_tarjetas']\n",
    "x1 = x1.sort_values(by=['Numero_tarjetas'],ascending = [False]).reset_index(drop= True)\n",
    "x1"
   ]
  },
  {
   "cell_type": "markdown",
   "id": "bbd3658a",
   "metadata": {},
   "source": [
    "## casos"
   ]
  },
  {
   "cell_type": "code",
   "execution_count": null,
   "id": "e5c715e0",
   "metadata": {},
   "outputs": [],
   "source": [
    "list_casos_1 = list(x1[\"NUM_CIS\"][x1['Numero_tarjetas'] == 23])\n",
    "list_casos_1"
   ]
  },
  {
   "cell_type": "code",
   "execution_count": null,
   "id": "c1f5ca18",
   "metadata": {},
   "outputs": [],
   "source": [
    "df_tarjetas[df_tarjetas['NUM_CIS'].isin(list_casos_1)].head(50)"
   ]
  },
  {
   "cell_type": "code",
   "execution_count": null,
   "id": "e173d55c",
   "metadata": {},
   "outputs": [],
   "source": []
  },
  {
   "cell_type": "code",
   "execution_count": null,
   "id": "ff79a184",
   "metadata": {},
   "outputs": [],
   "source": []
  },
  {
   "cell_type": "code",
   "execution_count": null,
   "id": "54b8ecb0",
   "metadata": {},
   "outputs": [],
   "source": []
  },
  {
   "cell_type": "code",
   "execution_count": null,
   "id": "88178c1b",
   "metadata": {},
   "outputs": [],
   "source": []
  },
  {
   "cell_type": "code",
   "execution_count": null,
   "id": "ee2b6097",
   "metadata": {},
   "outputs": [],
   "source": []
  },
  {
   "cell_type": "markdown",
   "id": "9bbb4025",
   "metadata": {},
   "source": [
    "# Nivel tarjeta"
   ]
  },
  {
   "cell_type": "code",
   "execution_count": null,
   "id": "0110151b",
   "metadata": {},
   "outputs": [],
   "source": [
    "\n",
    "df_tarjetas = df_tarjetas.sort_values(by=[\"NUM_TCD\", 'NUM_CIS']\n",
    "                                      , ascending = [True, True]).reset_index(drop= True)\n",
    "\n"
   ]
  },
  {
   "cell_type": "code",
   "execution_count": null,
   "id": "ac761fea",
   "metadata": {},
   "outputs": [],
   "source": [
    "list_group1 = [\"NUM_TCD\"]\n",
    "dict_estadisticas1 = {'NUM_CIS':['count']}\n",
    "\n",
    "x2 = df_tarjetas.groupby(list_group1).agg(dict_estadisticas1).reset_index(drop = False)\n",
    "x2.columns = list_group1 + ['Numero_clientes']\n",
    "x2 = x2.sort_values(by=['Numero_clientes'],ascending = [False]).reset_index(drop= True)\n",
    "x2"
   ]
  },
  {
   "cell_type": "markdown",
   "id": "94b92407",
   "metadata": {},
   "source": [
    "## casos"
   ]
  },
  {
   "cell_type": "code",
   "execution_count": null,
   "id": "967a5ffa",
   "metadata": {},
   "outputs": [],
   "source": [
    "list_casos_2 = list(x2[\"NUM_TCD\"][x2['Numero_clientes'] == 4])\n",
    "list_casos_2"
   ]
  },
  {
   "cell_type": "code",
   "execution_count": null,
   "id": "4cdf0303",
   "metadata": {},
   "outputs": [],
   "source": [
    "y = df_tarjetas[df_tarjetas['NUM_TCD'].isin(list_casos_2)].copy().reset_index(drop = True)\n",
    "y"
   ]
  },
  {
   "cell_type": "code",
   "execution_count": null,
   "id": "856f21df",
   "metadata": {},
   "outputs": [],
   "source": [
    "y.to_csv('Casos_4.csv')"
   ]
  },
  {
   "cell_type": "code",
   "execution_count": null,
   "id": "8fb904b5",
   "metadata": {},
   "outputs": [],
   "source": []
  },
  {
   "cell_type": "code",
   "execution_count": null,
   "id": "d6ab5ec8",
   "metadata": {},
   "outputs": [],
   "source": []
  },
  {
   "cell_type": "code",
   "execution_count": null,
   "id": "c854111e",
   "metadata": {},
   "outputs": [],
   "source": []
  },
  {
   "cell_type": "code",
   "execution_count": null,
   "id": "9d367c13",
   "metadata": {},
   "outputs": [],
   "source": []
  },
  {
   "cell_type": "code",
   "execution_count": null,
   "id": "6c718718",
   "metadata": {},
   "outputs": [],
   "source": []
  },
  {
   "cell_type": "code",
   "execution_count": null,
   "id": "f081080e",
   "metadata": {},
   "outputs": [],
   "source": []
  }
 ],
 "metadata": {
  "kernelspec": {
   "display_name": "Python 3",
   "language": "python",
   "name": "python3"
  },
  "language_info": {
   "codemirror_mode": {
    "name": "ipython",
    "version": 3
   },
   "file_extension": ".py",
   "mimetype": "text/x-python",
   "name": "python",
   "nbconvert_exporter": "python",
   "pygments_lexer": "ipython3",
   "version": "3.11.5"
  }
 },
 "nbformat": 4,
 "nbformat_minor": 5
}
