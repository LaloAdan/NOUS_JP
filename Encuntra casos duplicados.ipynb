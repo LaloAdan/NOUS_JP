{
 "cells": [
  {
   "cell_type": "code",
   "execution_count": null,
   "id": "c7f66889",
   "metadata": {},
   "outputs": [],
   "source": [
    "import pandas as pd\n",
    "import numpy as np"
   ]
  },
  {
   "cell_type": "code",
   "execution_count": null,
   "id": "b554c6c9",
   "metadata": {},
   "outputs": [],
   "source": [
    "path_tarjetas = 'C/Users/E133166/OneDrive - Mastecard/Documents/HSBC2/pivot/universe/'"
   ]
  },
  {
   "cell_type": "code",
   "execution_count": null,
   "id": "0988c5a8",
   "metadata": {},
   "outputs": [],
   "source": [
    "df_tarjetas = pd.read_csv(path_tarjetas + 'tarjetas.csv')\n",
    "df_tarjetas[['NUM_CIS','NUM_TCD']] = df_tarjetas[['NUM_CIS','NUM_TCD']].astype(str)\n",
    "\n",
    "df_tarjetas.head(3)"
   ]
  },
  {
   "cell_type": "markdown",
   "id": "2a33953b",
   "metadata": {},
   "source": [
    "# Nivel cliente\n"
   ]
  },
  {
   "cell_type": "code",
   "execution_count": null,
   "id": "1fd00f0d",
   "metadata": {},
   "outputs": [],
   "source": [
    "list_group1 = [\"NUM_CIS\"]\n",
    "dict_estadisticas1 = {'NUM_TCD':['count']}\n",
    "\n",
    "x1 = df_tarjetas.groupby(list_group1).agg(dict_estadisticas1).reset_index(drop = False)\n",
    "x1.columns = list_group1 + ['Numero_tarjetas']\n",
    "x1 = x1.sort_values(by=['Numero_tarjetas'],ascending = [False]).reset_index(drop= True)\n",
    "x1"
   ]
  },
  {
   "cell_type": "markdown",
   "id": "0ef4a7cd",
   "metadata": {},
   "source": [
    "## casos"
   ]
  },
  {
   "cell_type": "code",
   "execution_count": null,
   "id": "69c7b3a6",
   "metadata": {},
   "outputs": [],
   "source": [
    "list_casos_1 = list(x1[[\"NUM_CIS\"]][x1['Numero_tarjetas'] == 23])\n",
    "list_casos_1"
   ]
  },
  {
   "cell_type": "code",
   "execution_count": null,
   "id": "e70efde4",
   "metadata": {},
   "outputs": [],
   "source": [
    "df_tarjetas[df_tarjetas['NUM_CIS'].isin(list_casos_1)].head(50)"
   ]
  },
  {
   "cell_type": "code",
   "execution_count": null,
   "id": "53ebcea2",
   "metadata": {},
   "outputs": [],
   "source": []
  },
  {
   "cell_type": "code",
   "execution_count": null,
   "id": "a06fe460",
   "metadata": {},
   "outputs": [],
   "source": []
  },
  {
   "cell_type": "code",
   "execution_count": null,
   "id": "5f076f63",
   "metadata": {},
   "outputs": [],
   "source": []
  },
  {
   "cell_type": "code",
   "execution_count": null,
   "id": "977d6edc",
   "metadata": {},
   "outputs": [],
   "source": []
  },
  {
   "cell_type": "code",
   "execution_count": null,
   "id": "74b237fb",
   "metadata": {},
   "outputs": [],
   "source": []
  },
  {
   "cell_type": "markdown",
   "id": "33c898f6",
   "metadata": {},
   "source": [
    "# Nivel tarjeta"
   ]
  },
  {
   "cell_type": "code",
   "execution_count": null,
   "id": "c1ad89bf",
   "metadata": {},
   "outputs": [],
   "source": [
    "list_group1 = [\"NUM_TCD\"]\n",
    "dict_estadisticas1 = {'NUM_CIS':['count']}\n",
    "\n",
    "x2 = df_tarjetas.groupby(list_group1).agg(dict_estadisticas1).reset_index(drop = False)\n",
    "x2.columns = list_group1 + ['Numero_clientes']\n",
    "x2 = x2.sort_values(by=['Numero_clientes'],ascending = [False]).reset_index(drop= True)\n",
    "x2"
   ]
  },
  {
   "cell_type": "markdown",
   "id": "003d8348",
   "metadata": {},
   "source": [
    "## casos"
   ]
  },
  {
   "cell_type": "code",
   "execution_count": null,
   "id": "ec110f3d",
   "metadata": {},
   "outputs": [],
   "source": [
    "list_casos_2 = list(x2[\"NUM_TCD\"][x2['Numero_clientes'] == 4])\n",
    "list_casos_2"
   ]
  },
  {
   "cell_type": "code",
   "execution_count": null,
   "id": "1536234f",
   "metadata": {},
   "outputs": [],
   "source": [
    "y = df_tarjetas[df_tarjetas['NUM_TCD'].isin(list_casos_2)].copy().reset_index(drop = True)\n",
    "y"
   ]
  },
  {
   "cell_type": "code",
   "execution_count": null,
   "id": "183ad49a",
   "metadata": {},
   "outputs": [],
   "source": [
    "y.to_csv('Casos_4.csv')"
   ]
  },
  {
   "cell_type": "code",
   "execution_count": null,
   "id": "c155dc84",
   "metadata": {},
   "outputs": [],
   "source": []
  },
  {
   "cell_type": "code",
   "execution_count": null,
   "id": "0bf82e52",
   "metadata": {},
   "outputs": [],
   "source": []
  },
  {
   "cell_type": "code",
   "execution_count": null,
   "id": "94ac9db8",
   "metadata": {},
   "outputs": [],
   "source": []
  },
  {
   "cell_type": "code",
   "execution_count": null,
   "id": "8e92fa34",
   "metadata": {},
   "outputs": [],
   "source": []
  },
  {
   "cell_type": "code",
   "execution_count": null,
   "id": "f91cc7e0",
   "metadata": {},
   "outputs": [],
   "source": []
  },
  {
   "cell_type": "code",
   "execution_count": null,
   "id": "98c82235",
   "metadata": {},
   "outputs": [],
   "source": []
  }
 ],
 "metadata": {
  "kernelspec": {
   "display_name": "Python 3",
   "language": "python",
   "name": "python3"
  },
  "language_info": {
   "codemirror_mode": {
    "name": "ipython",
    "version": 3
   },
   "file_extension": ".py",
   "mimetype": "text/x-python",
   "name": "python",
   "nbconvert_exporter": "python",
   "pygments_lexer": "ipython3",
   "version": "3.11.5"
  }
 },
 "nbformat": 4,
 "nbformat_minor": 5
}
