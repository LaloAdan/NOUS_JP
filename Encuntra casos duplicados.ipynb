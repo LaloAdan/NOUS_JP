{
 "cells": [
  {
   "cell_type": "code",
   "execution_count": null,
   "id": "3af69524",
   "metadata": {},
   "outputs": [],
   "source": [
    "import pandas as pd\n",
    "import numpy as np"
   ]
  },
  {
   "cell_type": "code",
   "execution_count": null,
   "id": "fceb844e",
   "metadata": {},
   "outputs": [],
   "source": [
    "path_tarjetas = 'C/Users/E133166/OneDrive - Mastecard/Documents/HSBC2/pivot/universe/'"
   ]
  },
  {
   "cell_type": "code",
   "execution_count": null,
   "id": "88424740",
   "metadata": {},
   "outputs": [],
   "source": [
    "df_tarjetas = pd.read_csv(path_tarjetas + 'tarjetas.csv')\n",
    "df_tarjetas[['NUM_CIS','NUM_TCD']] = df_tarjetas[['NUM_CIS','NUM_TCD']].astype(str)\n",
    "\n",
    "df_tarjetas.head(3)"
   ]
  },
  {
   "cell_type": "markdown",
   "id": "0743da82",
   "metadata": {},
   "source": [
    "# Número de tarjetas por cliente"
   ]
  },
  {
   "cell_type": "code",
   "execution_count": null,
   "id": "fbbed92c",
   "metadata": {},
   "outputs": [],
   "source": [
    "list_group1 = [\"NUM_CIS\"]\n",
    "dict_estadisticas1 = {'NUM_TCD':['count']}\n",
    "\n",
    "x1 = df_tarjetas.groupby(list_group1).agg(dict_estadisticas1).reset_index(drop = False)\n",
    "x1.columns = list_group1 + ['Numero_tarjetas']\n",
    "x1 = x1.sort_values(by=['Numero_tarjetas'],ascending = [False]).reset_index(drop= True)\n",
    "x1"
   ]
  },
  {
   "cell_type": "markdown",
   "id": "8d8cf18e",
   "metadata": {},
   "source": [
    "## casos"
   ]
  },
  {
   "cell_type": "code",
   "execution_count": null,
   "id": "0c9a2cab",
   "metadata": {},
   "outputs": [],
   "source": [
    "list_casos_1 = list(x1[[\"NUM_CIS\"]][x1['Numero_tarjetas'] == 23])\n",
    "list_casos_1"
   ]
  },
  {
   "cell_type": "code",
   "execution_count": null,
   "id": "03605084",
   "metadata": {},
   "outputs": [],
   "source": [
    "df_tarjetas[df_tarjetas['NUM_CIS'].isin(list_casos_1)].head(50)"
   ]
  },
  {
   "cell_type": "code",
   "execution_count": null,
   "id": "bde88ab3",
   "metadata": {},
   "outputs": [],
   "source": []
  },
  {
   "cell_type": "code",
   "execution_count": null,
   "id": "33198649",
   "metadata": {},
   "outputs": [],
   "source": []
  },
  {
   "cell_type": "code",
   "execution_count": null,
   "id": "7b84dd27",
   "metadata": {},
   "outputs": [],
   "source": []
  },
  {
   "cell_type": "code",
   "execution_count": null,
   "id": "ffb9535f",
   "metadata": {},
   "outputs": [],
   "source": []
  },
  {
   "cell_type": "code",
   "execution_count": null,
   "id": "e442da69",
   "metadata": {},
   "outputs": [],
   "source": []
  },
  {
   "cell_type": "markdown",
   "id": "803ade80",
   "metadata": {},
   "source": [
    "# Número de clientes por tarjetas"
   ]
  },
  {
   "cell_type": "code",
   "execution_count": null,
   "id": "c5be3d9c",
   "metadata": {},
   "outputs": [],
   "source": [
    "list_group1 = [\"NUM_TCD\"]\n",
    "dict_estadisticas1 = {'NUM_CIS':['count']}\n",
    "\n",
    "x2 = df_tarjetas.groupby(list_group1).agg(dict_estadisticas1).reset_index(drop = False)\n",
    "x2.columns = list_group1 + ['Numero_clientes']\n",
    "x2 = x2.sort_values(by=['Numero_clientes'],ascending = [False]).reset_index(drop= True)\n",
    "x2"
   ]
  },
  {
   "cell_type": "markdown",
   "id": "035620fc",
   "metadata": {},
   "source": [
    "## casos"
   ]
  },
  {
   "cell_type": "code",
   "execution_count": null,
   "id": "6dec977b",
   "metadata": {},
   "outputs": [],
   "source": [
    "list_casos_2 = list(x2[\"NUM_TCD\"][x2['Numero_clientes'] == 4])\n",
    "list_casos_2"
   ]
  },
  {
   "cell_type": "code",
   "execution_count": null,
   "id": "7da2bb66",
   "metadata": {},
   "outputs": [],
   "source": [
    "y = df_tarjetas[df_tarjetas['NUM_TCD'].isin(list_casos_2)].copy().reset_index(drop = True)\n",
    "y"
   ]
  },
  {
   "cell_type": "code",
   "execution_count": null,
   "id": "f767d9d4",
   "metadata": {},
   "outputs": [],
   "source": [
    "y.to_csv('Casos_4.csv')"
   ]
  },
  {
   "cell_type": "code",
   "execution_count": null,
   "id": "b1e42bac",
   "metadata": {},
   "outputs": [],
   "source": []
  },
  {
   "cell_type": "code",
   "execution_count": null,
   "id": "bfbf1d48",
   "metadata": {},
   "outputs": [],
   "source": []
  },
  {
   "cell_type": "code",
   "execution_count": null,
   "id": "4d1fcd5c",
   "metadata": {},
   "outputs": [],
   "source": []
  },
  {
   "cell_type": "code",
   "execution_count": null,
   "id": "b3175281",
   "metadata": {},
   "outputs": [],
   "source": []
  },
  {
   "cell_type": "code",
   "execution_count": null,
   "id": "4b1077d9",
   "metadata": {},
   "outputs": [],
   "source": []
  },
  {
   "cell_type": "code",
   "execution_count": null,
   "id": "8fcb3260",
   "metadata": {},
   "outputs": [],
   "source": []
  }
 ],
 "metadata": {
  "kernelspec": {
   "display_name": "Python 3",
   "language": "python",
   "name": "python3"
  },
  "language_info": {
   "codemirror_mode": {
    "name": "ipython",
    "version": 3
   },
   "file_extension": ".py",
   "mimetype": "text/x-python",
   "name": "python",
   "nbconvert_exporter": "python",
   "pygments_lexer": "ipython3",
   "version": "3.11.5"
  }
 },
 "nbformat": 4,
 "nbformat_minor": 5
}
