{
 "cells": [
  {
   "cell_type": "code",
   "execution_count": null,
   "id": "4858c0d5",
   "metadata": {},
   "outputs": [],
   "source": [
    "import pandas as pd\n",
    "import numpy as np"
   ]
  },
  {
   "cell_type": "code",
   "execution_count": null,
   "id": "50b70a85",
   "metadata": {},
   "outputs": [],
   "source": [
    "path_tarjetas = 'C/Users/E133166/OneDrive - Mastecard/Documents/HSBC2/pivot/universe/'"
   ]
  },
  {
   "cell_type": "code",
   "execution_count": null,
   "id": "63129798",
   "metadata": {},
   "outputs": [],
   "source": [
    "df_tarjetas = pd.read_csv(path_tarjetas + 'tarjetas.csv')\n",
    "df_tarjetas[['NUM_CIS','NUM_TCD']] = df_tarjetas[['NUM_CIS','NUM_TCD']].astype(str)\n",
    "\n",
    "df_tarjetas.head(3)"
   ]
  },
  {
   "cell_type": "markdown",
   "id": "2d124134",
   "metadata": {},
   "source": [
    "# Número de tarjetas por cliente"
   ]
  },
  {
   "cell_type": "code",
   "execution_count": null,
   "id": "e93bbfff",
   "metadata": {},
   "outputs": [],
   "source": [
    "list_group1 = [\"NUM_CIS\"]\n",
    "dict_estadisticas1 = {'NUM_TCD':['count']}\n",
    "\n",
    "x = df_tarjetas.groupby(list_group1).agg(dict_estadisticas1).reset_index(drop = False)\n",
    "x.columns = list_group1 + ['Numero_tarjetas']\n",
    "x = x.sort_values(by=['Numero_tarjetas'],ascending = [False]).reset_index(drop= True)\n",
    "x"
   ]
  },
  {
   "cell_type": "markdown",
   "id": "7318ac7d",
   "metadata": {},
   "source": [
    "## casos"
   ]
  },
  {
   "cell_type": "code",
   "execution_count": null,
   "id": "810a379a",
   "metadata": {},
   "outputs": [],
   "source": [
    "list_casos = list(x[[\"NUM_CIS\"]][x['Numero_tarjetas'] == 16])"
   ]
  },
  {
   "cell_type": "code",
   "execution_count": null,
   "id": "8d7057fd",
   "metadata": {},
   "outputs": [],
   "source": [
    "df_tarjetas[df_tarjetas['NUM_CIS'].isin(list_casos)].head(50)"
   ]
  },
  {
   "cell_type": "code",
   "execution_count": null,
   "id": "b31c82d8",
   "metadata": {},
   "outputs": [],
   "source": []
  },
  {
   "cell_type": "markdown",
   "id": "7cb54587",
   "metadata": {},
   "source": [
    "# Número de clientes por tarjetas"
   ]
  },
  {
   "cell_type": "code",
   "execution_count": null,
   "id": "b1f0087b",
   "metadata": {},
   "outputs": [],
   "source": [
    "list_group1 = [\"NUM_TCD\"]\n",
    "dict_estadisticas1 = {'NUM_CIS':['count']}\n",
    "\n",
    "x = df_tarjetas.groupby(list_group1).agg(dict_estadisticas1).reset_index(drop = False)\n",
    "x.columns = list_group1 + ['Numero_clientes']\n",
    "x = x.sort_values(by=['Numero_clientes'],ascending = [False]).reset_index(drop= True)\n",
    "x"
   ]
  },
  {
   "cell_type": "markdown",
   "id": "6c7a58a2",
   "metadata": {},
   "source": [
    "## casos"
   ]
  },
  {
   "cell_type": "code",
   "execution_count": null,
   "id": "80e3fa1c",
   "metadata": {},
   "outputs": [],
   "source": [
    "list_casos = list(x[[\"NUM_TCD\"]][x['Numero_clientes'] == 16])"
   ]
  },
  {
   "cell_type": "code",
   "execution_count": null,
   "id": "3f2bceb9",
   "metadata": {},
   "outputs": [],
   "source": [
    "df_tarjetas[df_tarjetas['NUM_TCD'].isin(list_casos)].head(50)"
   ]
  },
  {
   "cell_type": "code",
   "execution_count": null,
   "id": "cd5f2a4a",
   "metadata": {},
   "outputs": [],
   "source": []
  },
  {
   "cell_type": "code",
   "execution_count": null,
   "id": "052d436a",
   "metadata": {},
   "outputs": [],
   "source": []
  },
  {
   "cell_type": "code",
   "execution_count": null,
   "id": "c5c56be7",
   "metadata": {},
   "outputs": [],
   "source": []
  },
  {
   "cell_type": "code",
   "execution_count": null,
   "id": "a57e9bd5",
   "metadata": {},
   "outputs": [],
   "source": []
  },
  {
   "cell_type": "code",
   "execution_count": null,
   "id": "da98c33e",
   "metadata": {},
   "outputs": [],
   "source": []
  },
  {
   "cell_type": "code",
   "execution_count": null,
   "id": "33ddc37f",
   "metadata": {},
   "outputs": [],
   "source": []
  }
 ],
 "metadata": {
  "kernelspec": {
   "display_name": "Python 3",
   "language": "python",
   "name": "python3"
  },
  "language_info": {
   "codemirror_mode": {
    "name": "ipython",
    "version": 3
   },
   "file_extension": ".py",
   "mimetype": "text/x-python",
   "name": "python",
   "nbconvert_exporter": "python",
   "pygments_lexer": "ipython3",
   "version": "3.11.5"
  }
 },
 "nbformat": 4,
 "nbformat_minor": 5
}
