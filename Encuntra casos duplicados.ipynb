{
 "cells": [
  {
   "cell_type": "code",
   "execution_count": null,
   "id": "a97182dd",
   "metadata": {},
   "outputs": [],
   "source": [
    "import pandas as pd\n",
    "import numpy as np"
   ]
  },
  {
   "cell_type": "code",
   "execution_count": null,
   "id": "51b91c78",
   "metadata": {},
   "outputs": [],
   "source": [
    "path_tarjetas = 'C/Users/E133166/OneDrive - Mastecard/Documents/HSBC2/pivot/universe/'"
   ]
  },
  {
   "cell_type": "code",
   "execution_count": null,
   "id": "bf2cbd9a",
   "metadata": {},
   "outputs": [],
   "source": [
    "df_tarjetas = pd.read_csv(path_tarjetas + 'tarjetas.csv')\n",
    "df_tarjetas[['NUM_CIS','NUM_TCD']] = df_tarjetas[['NUM_CIS','NUM_TCD']].astype(str)\n",
    "\n",
    "df_tarjetas.head(3)"
   ]
  },
  {
   "cell_type": "markdown",
   "id": "773390fd",
   "metadata": {},
   "source": [
    "# Número de tarjetas por cliente"
   ]
  },
  {
   "cell_type": "code",
   "execution_count": null,
   "id": "75d66d2f",
   "metadata": {},
   "outputs": [],
   "source": [
    "list_group1 = [\"NUM_CIS\"]\n",
    "dict_estadisticas1 = {'NUM_TCD':['count']}\n",
    "\n",
    "x1 = df_tarjetas.groupby(list_group1).agg(dict_estadisticas1).reset_index(drop = False)\n",
    "x1.columns = list_group1 + ['Numero_tarjetas']\n",
    "x1 = x1.sort_values(by=['Numero_tarjetas'],ascending = [False]).reset_index(drop= True)\n",
    "x1"
   ]
  },
  {
   "cell_type": "markdown",
   "id": "d59f6d42",
   "metadata": {},
   "source": [
    "## casos"
   ]
  },
  {
   "cell_type": "code",
   "execution_count": null,
   "id": "39720773",
   "metadata": {},
   "outputs": [],
   "source": [
    "list_casos_1 = list(x1[[\"NUM_CIS\"]][x1['Numero_tarjetas'] == 23])\n",
    "list_casos_1"
   ]
  },
  {
   "cell_type": "code",
   "execution_count": null,
   "id": "5b6dac95",
   "metadata": {},
   "outputs": [],
   "source": [
    "df_tarjetas[df_tarjetas['NUM_CIS'].isin(list_casos_1)].head(50)"
   ]
  },
  {
   "cell_type": "code",
   "execution_count": null,
   "id": "3af0801a",
   "metadata": {},
   "outputs": [],
   "source": []
  },
  {
   "cell_type": "code",
   "execution_count": null,
   "id": "e00f9c94",
   "metadata": {},
   "outputs": [],
   "source": []
  },
  {
   "cell_type": "code",
   "execution_count": null,
   "id": "2268ef6a",
   "metadata": {},
   "outputs": [],
   "source": []
  },
  {
   "cell_type": "code",
   "execution_count": null,
   "id": "80e3e52a",
   "metadata": {},
   "outputs": [],
   "source": []
  },
  {
   "cell_type": "code",
   "execution_count": null,
   "id": "34c23b17",
   "metadata": {},
   "outputs": [],
   "source": []
  },
  {
   "cell_type": "markdown",
   "id": "465efbc2",
   "metadata": {},
   "source": [
    "# Número de clientes por tarjetas"
   ]
  },
  {
   "cell_type": "code",
   "execution_count": null,
   "id": "63ffa027",
   "metadata": {},
   "outputs": [],
   "source": [
    "list_group1 = [\"NUM_TCD\"]\n",
    "dict_estadisticas1 = {'NUM_CIS':['count']}\n",
    "\n",
    "x2 = df_tarjetas.groupby(list_group1).agg(dict_estadisticas1).reset_index(drop = False)\n",
    "x2.columns = list_group1 + ['Numero_clientes']\n",
    "x2 = x2.sort_values(by=['Numero_clientes'],ascending = [False]).reset_index(drop= True)\n",
    "x2"
   ]
  },
  {
   "cell_type": "markdown",
   "id": "100b194c",
   "metadata": {},
   "source": [
    "## casos"
   ]
  },
  {
   "cell_type": "code",
   "execution_count": null,
   "id": "a4cea662",
   "metadata": {},
   "outputs": [],
   "source": [
    "list_casos_2 = list(x2[[\"NUM_TCD\"]][x2['Numero_clientes'] == 16])\n",
    "list_casos_2"
   ]
  },
  {
   "cell_type": "code",
   "execution_count": null,
   "id": "f5db00a2",
   "metadata": {},
   "outputs": [],
   "source": [
    "df_tarjetas[df_tarjetas['NUM_TCD'].isin(list_casos_2)].head(50)"
   ]
  },
  {
   "cell_type": "code",
   "execution_count": null,
   "id": "ca1f0c8b",
   "metadata": {},
   "outputs": [],
   "source": []
  },
  {
   "cell_type": "code",
   "execution_count": null,
   "id": "b342025b",
   "metadata": {},
   "outputs": [],
   "source": []
  },
  {
   "cell_type": "code",
   "execution_count": null,
   "id": "1035b824",
   "metadata": {},
   "outputs": [],
   "source": []
  },
  {
   "cell_type": "code",
   "execution_count": null,
   "id": "20f027ed",
   "metadata": {},
   "outputs": [],
   "source": []
  },
  {
   "cell_type": "code",
   "execution_count": null,
   "id": "3d5975f3",
   "metadata": {},
   "outputs": [],
   "source": []
  },
  {
   "cell_type": "code",
   "execution_count": null,
   "id": "47511938",
   "metadata": {},
   "outputs": [],
   "source": []
  }
 ],
 "metadata": {
  "kernelspec": {
   "display_name": "Python 3",
   "language": "python",
   "name": "python3"
  },
  "language_info": {
   "codemirror_mode": {
    "name": "ipython",
    "version": 3
   },
   "file_extension": ".py",
   "mimetype": "text/x-python",
   "name": "python",
   "nbconvert_exporter": "python",
   "pygments_lexer": "ipython3",
   "version": "3.11.5"
  }
 },
 "nbformat": 4,
 "nbformat_minor": 5
}
